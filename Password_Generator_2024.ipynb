{
 "cells": [
  {
   "cell_type": "code",
   "execution_count": 1,
   "id": "4932cc27",
   "metadata": {},
   "outputs": [],
   "source": [
    "# ! pip install pyperclip\n",
    "# ! pip install python-docx\n",
    "# ! pip install docx2pdf"
   ]
  },
  {
   "cell_type": "code",
   "execution_count": 2,
   "id": "6c48821b",
   "metadata": {},
   "outputs": [],
   "source": [
    "# https://stackoverflow.com/questions/41979095/write-text-in-particular-font-color-in-ms-word-using-python-docx\n",
    "\n",
    "import os\n",
    "\n",
    "import random\n",
    "\n",
    "import pyperclip as pc\n",
    "\n",
    "#os.system('pip install python-docx')\n",
    "from docx import Document\n",
    "from docx.shared import RGBColor"
   ]
  },
  {
   "cell_type": "code",
   "execution_count": 3,
   "id": "f3a2770b",
   "metadata": {},
   "outputs": [
    {
     "name": "stdout",
     "output_type": "stream",
     "text": [
      "\n",
      " Some reference of this password for your recollection. You may include name of the website: \tComMapPort Gmail\n"
     ]
    }
   ],
   "source": [
    "all_unicode = []\n",
    "for i in range(256):\n",
    "    all_unicode.append(chr(i))\n",
    "\n",
    "alphabets=[]\n",
    "for i in range(97,123):\n",
    "    alphabets.append(chr(i))\n",
    "\n",
    "ALPHABETS=[]\n",
    "for i in range(65,91):\n",
    "    ALPHABETS.append(chr(i))\n",
    "\n",
    "numbers=[]\n",
    "for i in range(48,58):\n",
    "    numbers.append(chr(i))\n",
    "\n",
    "#special_characters=[' ','!','#','$','%','&',\"`\",'(',')','*','+',',','-','.','/',':',';','<','=','>','?','@','[',\"\\\\\",\"]\",'^','_','{','|',\"'\",'}','~','\"']\n",
    "# special_characters=[\"!\",\"@\", \"#\", \"$\", \"%\", \"&\", \"*\", \"(\", \")\",\"_\"] #LIC Special\n",
    "special_characters=[] # Current Allowables\n",
    "#special_characters=['@','#','&','*',\"!\"]\n",
    "\n",
    "intent=input(\"\\n Some reference of this password for your recollection. You may include name of the website: \\t\")"
   ]
  },
  {
   "cell_type": "code",
   "execution_count": 4,
   "id": "71ecdddc",
   "metadata": {},
   "outputs": [
    {
     "name": "stdout",
     "output_type": "stream",
     "text": [
      "\n",
      " It is preferable to randomize the length of the password you enter by a small margin for generating more uncertainity and preventing easy password cracks\n",
      "\n",
      " Would you like to randomize your password's length? Enter 0 ( ZERO ) if NO : \t5\n",
      "\n",
      " Approximate length of the password is: \t94\n",
      "\n",
      " For Updated Security Resaons, the length of the password you just entered is to be considered as the Mean for generating a range within which the password length might lie...\n",
      "\n",
      " As an example, if you entered 25, then it would be considered as a mean and the password range might be from 25-3 characters to 25+3 characters\n",
      "\n",
      " The uncertainity range ( 3 in the above example ) would be used as a linear Deviation with your entered length as the average:\n",
      "Enter Uncertainity Range: \t1\n"
     ]
    }
   ],
   "source": [
    "os.mkdir(intent)\n",
    "intent+=\"/\"\n",
    "docu = Document()\n",
    "paragraph = docu.add_paragraph()\n",
    "\n",
    "print(\"\\n It is preferable to randomize the length of the password you enter by a small margin for generating more uncertainity and preventing easy password cracks\")\n",
    "decision_of_randomizing_length=input(\"\\n Would you like to randomize your password's length? Enter 0 ( ZERO ) if NO : \\t\")\n",
    "\n",
    "if decision_of_randomizing_length==\"0\":\n",
    "    length_of_password_requested=int(input(\"\\n Exact length of the password: \\t\"))\n",
    "else:\n",
    "    length_of_password_entered=int(input(\"\\n Approximate length of the password is: \\t\"))\n",
    "\n",
    "    print(\"\\n For Updated Security Resaons, the length of the password you just entered is to be considered as the Mean for generating a range within which the password length might lie...\")\n",
    "    print(\"\\n As an example, if you entered 25, then it would be considered as a mean and the password range might be from 25-3 characters to 25+3 characters\")\n",
    "    print(\"\\n The uncertainity range ( 3 in the above example ) would be used as a linear Deviation with your entered length as the average:\")\n",
    "\n",
    "    uncertainity_range_in_password_length=int(input(\"Enter Uncertainity Range: \\t\"))\n",
    "    while uncertainity_range_in_password_length>=length_of_password_entered:\n",
    "        print(\"The Uncertainity range must be less than the requested password length and is preferable to be a small value b/w 3 to 1\")\n",
    "        uncertainity_range_in_password_length=int(input(\"Enter Uncertainity Range: \\t\"))\n",
    "    length_of_password_requested=random.randint(length_of_password_entered-uncertainity_range_in_password_length, length_of_password_entered+uncertainity_range_in_password_length)\n",
    "\n",
    "# all_keyboard_entity={1: '`', 2: '1', 3: '2', 4: '3', 5: '4', 6: '5', 7: '6', 8: '7', 9: '8', 10: 'N', 11: '9', 12: '0', 13: '-', 14: '=', 15: 'q', 16: 'w', 17: 'e', 18: 'r', 19: 't', 20: 'y', 21: 'u', 22: 'i', 23: 'o', 24: 'p', 25: '[', 26: ']', 27: '\\\\', 28: 'a', 29: 's', 30: 'd', 31: 'f', 32: 'g', 33: 'h', 34: 'j', 35: 'k', 36: 'l', 37: ';', 38: \"'\", 39: 'z', 40: 'x', 41: 'c', 42: 'v', 43: 'b', 44: 'n', 45: 'm', 46: ',', 47: '.', 48: '/', 49: '~', 50: '!', 51: '@', 52: '#', 53: '$', 54: '%', 55: '^', 56: '&', 57: '*', 58: '', 59: '(', 60: ')', 61: '_', 62: '+', 63: '{', 64: '}', 65: '|', 66: ':', 67: '\"', 68: '<', 69: '>', 70: '?', 71: 'Q', 72: 'W', 73: 'E', 74: 'R', 75: 'T', 76: 'Y', 77: 'U', 78: 'I', 79: 'O', 80: 'P', 81: 'A', 82: 'S', 83: 'D', 84: 'F', 85: 'G', 86: 'H', 87: 'J', 88: 'K', 89: 'L', 90: 'Z', 91: 'X', 92: 'C', 93: 'V', 94: 'B', 95: 'M', 96: ' '}\n",
    "\n",
    "# No Space for one specific case # Comment the below line after using code once\n",
    "#all_keyboard_entity={1: '`', 2: '1', 3: '2', 4: '3', 5: '4', 6: '5', 7: '6', 8: '7', 9: '8', 10: 'N', 11: '9', 12: '0', 13: '-', 14: '=', 15: 'q', 16: 'w', 17: 'e', 18: 'r', 19: 't', 20: 'y', 21: 'u', 22: 'i', 23: 'o', 24: 'p', 25: '[', 26: ']', 27: '\\\\', 28: 'a', 29: 's', 30: 'd', 31: 'f', 32: 'g', 33: 'h', 34: 'j', 35: 'k', 36: 'l', 37: ';', 38: \"'\", 39: 'z', 40: 'x', 41: 'c', 42: 'v', 43: 'b', 44: 'n', 45: 'm', 46: ',', 47: '.', 48: '/', 49: '~', 50: '!', 51: '@', 52: '#', 53: '$', 54: '%', 55: '^', 56: '&', 57: '*', 58: '', 59: '(', 60: ')', 61: '_', 62: '+', 63: '{', 64: '}', 65: '|', 66: ':', 67: '\"', 68: '<', 69: '>', 70: '?', 71: 'Q', 72: 'W', 73: 'E', 74: 'R', 75: 'T', 76: 'Y', 77: 'U', 78: 'I', 79: 'O', 80: 'P', 81: 'A', 82: 'S', 83: 'D', 84: 'F', 85: 'G', 86: 'H', 87: 'J', 88: 'K', 89: 'L', 90: 'Z', 91: 'X', 92: 'C', 93: 'V', 94: 'B', 95: 'M'}\n",
    "all_keyboard_entity = alphabets + ALPHABETS + numbers + special_characters\n",
    "\n",
    "num_of_options=len(all_keyboard_entity)-1\n",
    "#print(\"Length of the KeyBoard Array is: \", num_of_options)\n",
    "\n",
    "check=0\n",
    "while check==0:\n",
    "\n",
    "    PASSWORD=\"\"\n",
    "    check_number_in_password=0\n",
    "    check_ALPHABET_in_password=0\n",
    "    check_alphabet_in_password=0\n",
    "    check_special_character_in_password=0\n",
    "\n",
    "    for i in range(length_of_password_requested):\n",
    "        rand=random.randint(0,num_of_options)\n",
    "        PASSWORD+=all_keyboard_entity[rand-1]\n",
    "        \n",
    "        if all_keyboard_entity[rand] in alphabets:\n",
    "            check_alphabet_in_password+=5\n",
    "        elif all_keyboard_entity[rand] in ALPHABETS:\n",
    "            check_ALPHABET_in_password+=5\n",
    "        elif all_keyboard_entity[rand] in numbers:\n",
    "            check_number_in_password+=5\n",
    "        elif all_keyboard_entity[rand] in special_characters:\n",
    "            check_special_character_in_password+=5\n",
    "\n",
    "    if check_ALPHABET_in_password>0 and check_alphabet_in_password>0 and check_number_in_password>0 and check_number_in_password>0:\n",
    "        check=1\n",
    "\n",
    "\n",
    "run = paragraph.add_run('\\n The Password is in within the arrows. Copy the everything within the arrows which is actually in white font. --=>>')\n",
    "run.font.color.rgb = RGBColor(255, 0, 0)\n",
    "\n",
    "run = paragraph.add_run(PASSWORD)\n",
    "run.font.color.rgb = RGBColor(255,255,255)\n",
    "\n",
    "run = paragraph.add_run('<<=-- Dont leave any space while copying everything within the arrows.')\n",
    "run.font.color.rgb = RGBColor(255, 0, 0)\n",
    "\n",
    "docu.save(intent+'White_Password.docx')"
   ]
  },
  {
   "cell_type": "code",
   "execution_count": 5,
   "id": "c8c2cb6f",
   "metadata": {},
   "outputs": [
    {
     "data": {
      "application/vnd.jupyter.widget-view+json": {
       "model_id": "cbe3162c9f0c4c40bca81e51da7fae2f",
       "version_major": 2,
       "version_minor": 0
      },
      "text/plain": [
       "  0%|          | 0/1 [00:00<?, ?it/s]"
      ]
     },
     "metadata": {},
     "output_type": "display_data"
    },
    {
     "name": "stdout",
     "output_type": "stream",
     "text": [
      "Word could not be quit properly: name 'word' is not defined\n"
     ]
    }
   ],
   "source": [
    "import pythoncom\n",
    "from docx2pdf import convert\n",
    "\n",
    "try:\n",
    "    convert(intent+'White_Password.docx', intent+\"White_Password_PDF.pdf\")\n",
    "except pythoncom.com_error as e:\n",
    "    print(f\"An error occurred: {e}\")\n",
    "finally:\n",
    "    # Make sure Word is closed\n",
    "    try:\n",
    "        word.Quit()\n",
    "    except Exception as e:\n",
    "        print(\"Word could not be quit properly:\", e)\n",
    "\n",
    "# Even though sometimes there is an error above, the PDF generates successfully..."
   ]
  },
  {
   "cell_type": "code",
   "execution_count": 6,
   "id": "6e84bc77",
   "metadata": {},
   "outputs": [
    {
     "name": "stdout",
     "output_type": "stream",
     "text": [
      "\n",
      " The password files should not contain the information about where this password is being used, only the outside FOLDER NAME is to help the user regarding this.\n",
      "\n",
      " Your password is copied to your CLIPBOARD. USE EXTREME CAUTION !!!\n"
     ]
    }
   ],
   "source": [
    "print(\"\\n The password files should not contain the information about where this password is being used, only the outside FOLDER NAME is to help the user regarding this.\")\n",
    "\n",
    "# After USING the password, clean CLIPBOARD\n",
    "# If you dont wish to save the passwords then comment out the codes for saving the password in WORD and PDF files\n",
    "# In this case you should be using the PASSWORD as an OTP through the CLIPBOARD\n",
    "pc.copy(PASSWORD) #Copying the Password to the CLIPBOARD for immediate USE\n",
    "pc.paste()\n",
    "\n",
    "print(\"\\n Your password is copied to your CLIPBOARD. USE EXTREME CAUTION !!!\")"
   ]
  },
  {
   "cell_type": "code",
   "execution_count": null,
   "id": "edf913f1",
   "metadata": {},
   "outputs": [],
   "source": []
  },
  {
   "cell_type": "code",
   "execution_count": null,
   "id": "5f9de47f",
   "metadata": {},
   "outputs": [],
   "source": []
  }
 ],
 "metadata": {
  "kernelspec": {
   "display_name": "Python 3 (ipykernel)",
   "language": "python",
   "name": "python3"
  },
  "language_info": {
   "codemirror_mode": {
    "name": "ipython",
    "version": 3
   },
   "file_extension": ".py",
   "mimetype": "text/x-python",
   "name": "python",
   "nbconvert_exporter": "python",
   "pygments_lexer": "ipython3",
   "version": "3.9.13"
  }
 },
 "nbformat": 4,
 "nbformat_minor": 5
}
